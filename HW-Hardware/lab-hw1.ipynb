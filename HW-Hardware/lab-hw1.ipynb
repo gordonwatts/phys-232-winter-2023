{
 "cells": [
  {
   "attachments": {},
   "cell_type": "markdown",
   "metadata": {},
   "source": [
    "# Lab HW #1\n",
    "\n",
    "In this lab we will build a binary timer using the neopixels on your bluefruit: it will count off the seconds, in binary, using the neopixels to display the count.\n",
    "\n",
    "Some introductory reading:\n",
    "\n",
    "* What are binary numbers? They are just numbers that count up base-2, similar to our normal system, which is base-10. A [reasonable introduction can be found here](https://engineersphere.com/how-to-count-in-binary) if you are unfamiliar.\n",
    "\n",
    "We will develop some of the basic code here in this notebook, and then move it over to the bluefruit. Debugging is a little bit easier in a notebook as compared to the bluefruit itself.\n",
    "\n",
    "A quick note on debugging. You can put `help(str)` in your `code.py` file, open the serial bridge, and then save the `code.py` file on your bluefruit. You'll see a very different set of methods, etc., come back than you see if you execute `help(str)` here. This technique helped me a lot when writing this lab and I was trying to understand which methods are supported and which ones are not.\n",
    "\n",
    "## Design\n",
    "\n",
    "We can think of the design of this code in several blocks. Simply:\n",
    "\n",
    "1. Increment a counter by one each second\n",
    "1. Turn the value of the counter into a binary number\n",
    "1. Use the binary number to drive the neopixels.\n",
    "\n",
    "We will make heavy use of functions, etc. to build this in a nice composable way.\n",
    "\n",
    "Second thing to think about is how we will put this in files. Lets do it in two files. THe first file will be `binary_helpers.py` - we can put the binary converter and the display methods in there. The counter function and main loop we'll put in a file called `binary_clock.py`."
   ]
  },
  {
   "attachments": {},
   "cell_type": "markdown",
   "metadata": {
    "tags": []
   },
   "source": [
    "## Counter Loop\n",
    "\n",
    "Our first job is to create a function that will take a counter and return it incremented by one - and will have paused for 1 second. We can then use this repeatedly to implement our main loop on the bluefruit.\n",
    "\n",
    "This is the first time we've talked about time in python. The `time` module is perfect for this. And has a `sleep` function in it."
   ]
  },
  {
   "cell_type": "code",
   "execution_count": null,
   "metadata": {},
   "outputs": [],
   "source": [
    "from time import asctime, sleep\n",
    "\n",
    "print(asctime())\n",
    "sleep(1.0)\n",
    "print(asctime())"
   ]
  },
  {
   "attachments": {},
   "cell_type": "markdown",
   "metadata": {},
   "source": [
    "Lets create the function `inc_and_wait(counter)`. The function is very simple. Below we've got the function specification - fill in the actual code."
   ]
  },
  {
   "cell_type": "code",
   "execution_count": null,
   "metadata": {
    "tags": [
     "grade"
    ]
   },
   "outputs": [],
   "source": [
    "def inc_and_wait(counter):\n",
    "    '''\n",
    "    Increments the counter and waits for 1 second.\n",
    "\n",
    "    Args:\n",
    "        counter (int): Current value of the counter. +1 is returned.\n",
    "\n",
    "    Returns:\n",
    "        int: counter + 1\n",
    "    '''\n",
    "    pass"
   ]
  },
  {
   "attachments": {},
   "cell_type": "markdown",
   "metadata": {},
   "source": [
    "Our main loop (at least the part that increments the counter) might look something like the following:\n",
    "\n",
    "```python\n",
    "counter = 0\n",
    "while True:\n",
    "    b = as_binary(counter)\n",
    "    display_binary(b)\n",
    "    counter = inc_and_wait(counter)\n",
    "```"
   ]
  },
  {
   "attachments": {},
   "cell_type": "markdown",
   "metadata": {},
   "source": [
    "## Converting a number to binary\n",
    "\n",
    "The function `as_binary` needs to convert from the integer to a string with the integer as a binary representation. It is a little ironic we have to go through this since all computers store integers in binary representations in the first place!\n",
    "\n",
    "The second thing `as_binary` has to do is make sure it hands back 10 binary digits - one for each neopixel. So, 1 would be converted to `0000000001` and 2 would be `0000000010`, etc.\n",
    "\n",
    "The python language contains a `__builtin__` that converts a number to its binary representaion. It is called `bin`:"
   ]
  },
  {
   "cell_type": "code",
   "execution_count": null,
   "metadata": {},
   "outputs": [],
   "source": [
    "bin(1), bin(2), bin(3)"
   ]
  },
  {
   "attachments": {},
   "cell_type": "markdown",
   "metadata": {},
   "source": [
    "We need to remove the `0b` prefix and pad it out to 10 characters with `0`'s. To do this we'll use string `slicing`. See Chapter 4 of your book, _Working with part of a list_. The following is an example, with a string (which is a list of characters):"
   ]
  },
  {
   "cell_type": "code",
   "execution_count": null,
   "metadata": {},
   "outputs": [],
   "source": [
    "s = \"hi there\"\n",
    "s[3:]"
   ]
  },
  {
   "attachments": {},
   "cell_type": "markdown",
   "metadata": {},
   "source": [
    "The final question is how to add the zeros. There are two methods to do this easily in python:\n",
    "\n",
    "* The `rjust` method of the string object (great idea - CircuitPython does not support).\n",
    "* The `zfill` method of the string object (great idea - CircuitPython does not support).\n",
    "* Using a format specifier in a `f` string.\n",
    "* Using a loop.\n",
    "* Using string concatenation and the `*` operator\n",
    "\n",
    "We are now ready to write our `as_binary` method:"
   ]
  },
  {
   "cell_type": "code",
   "execution_count": null,
   "metadata": {
    "tags": [
     "grade"
    ]
   },
   "outputs": [],
   "source": [
    "def as_binary(n):\n",
    "    '''\n",
    "    Returns the 10-digit binary representation of an integer.\n",
    "\n",
    "    Args:\n",
    "        n (int): Integer to be converted to binary.\n",
    "\n",
    "    Returns:\n",
    "        str: Binary representation of n.\n",
    "    '''\n",
    "    return \"not implemented\""
   ]
  },
  {
   "attachments": {},
   "cell_type": "markdown",
   "metadata": {},
   "source": [
    "Lets use the `assert` function to check that this is working correctly. It is basically a simple way of writing some tests (test driven development - look on the web for numerous examples):"
   ]
  },
  {
   "cell_type": "code",
   "execution_count": null,
   "metadata": {},
   "outputs": [],
   "source": [
    "assert as_binary(0) == '0000000000'\n",
    "assert as_binary(1) == '0000000001'\n",
    "assert as_binary(10) == '0000001010'\n",
    "assert as_binary(100) == '0001100100'"
   ]
  },
  {
   "attachments": {},
   "cell_type": "markdown",
   "metadata": {},
   "source": [
    "## Display The Number\n",
    "\n",
    "Of course, this part really is going to have to take place on the neopixels - and that code will only make sense on the actual bluefruit device. However, we can get close enough we can see the whole thing working.\n",
    "\n",
    "If you look in the neopixel code from your Lab 1, you'll see how to access the neopixels. They are a 10 element list, and each value should be a tuple of 3 RGB values. Our job, then is to convert the binary characters to either dark or light (say green - but when you move it down to the bluefruit do any color you want!).\n",
    "\n",
    "Lets design the function so we can test it up here, but it will still work down on the bluefruit when we pass in the pixels. You have all the bits, so lets go ahead and write it (and then do some simple tests):"
   ]
  },
  {
   "cell_type": "code",
   "execution_count": null,
   "metadata": {
    "tags": [
     "grade"
    ]
   },
   "outputs": [],
   "source": [
    "def display_binary(binary, pixels):\n",
    "    '''Converts a 10 digit binary number to pixels turned on or off with the color\n",
    "    green.\n",
    "\n",
    "    Args:\n",
    "        binary (str): The 10-digit binary number to be displayed.\n",
    "        pixels (List[Tuple[int, int, int]]): The list of pixels to get set to green or off.\n",
    "    '''\n",
    "    pass"
   ]
  },
  {
   "attachments": {},
   "cell_type": "markdown",
   "metadata": {},
   "source": [
    "Lets write one test - make sure this works:"
   ]
  },
  {
   "cell_type": "code",
   "execution_count": null,
   "metadata": {},
   "outputs": [],
   "source": [
    "test_pixels = [(0, 10, 0)]*10\n",
    "display_number('0000000000', test_pixels)\n",
    "assert test_pixels == [(0, 0, 0)]*10"
   ]
  },
  {
   "attachments": {},
   "cell_type": "markdown",
   "metadata": {},
   "source": [
    "Now, you write a test, but for the binary number 2:"
   ]
  },
  {
   "cell_type": "code",
   "execution_count": null,
   "metadata": {
    "tags": [
     "grade"
    ]
   },
   "outputs": [],
   "source": []
  },
  {
   "attachments": {},
   "cell_type": "markdown",
   "metadata": {},
   "source": [
    "## Next Steps\n",
    "\n",
    "We've done as much as we can here! Now, copy this working code down to the `binary_clock.py` and `binary_helpers.py` files, change `code.py` to import `binary_clock`, and then modify binary clock until this works!\n",
    "\n",
    "## What to submit\n",
    "\n",
    "Please submit the following on canvas:\n",
    "\n",
    "* A PDF of this sheet, with all the cells filled out and executed\n",
    "* The `binary_clock.py` file\n",
    "* The `binary_helpers.py` file\n",
    "* A short (10 secs or less) video of your timer in action."
   ]
  },
  {
   "attachments": {},
   "cell_type": "markdown",
   "metadata": {},
   "source": [
    "## Extra\n",
    "\n",
    "There is lots more you can do - for example, you can only start the counter when a button is pushed. If you dig deep enough might even be able to figure out how to make it start by yelling at it (I've not tried this - in theory...)."
   ]
  }
 ],
 "metadata": {
  "kernelspec": {
   "display_name": ".venv",
   "language": "python",
   "name": "python3"
  },
  "language_info": {
   "codemirror_mode": {
    "name": "ipython",
    "version": 3
   },
   "file_extension": ".py",
   "mimetype": "text/x-python",
   "name": "python",
   "nbconvert_exporter": "python",
   "pygments_lexer": "ipython3",
   "version": "3.11.1"
  },
  "orig_nbformat": 4,
  "vscode": {
   "interpreter": {
    "hash": "cff0604e258d3f68a187b9d0395ae84627fe0f41da39aaac4bf51ab7c3cbc878"
   }
  }
 },
 "nbformat": 4,
 "nbformat_minor": 2
}
