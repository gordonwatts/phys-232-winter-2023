{
 "cells": [
  {
   "attachments": {},
   "cell_type": "markdown",
   "metadata": {},
   "source": [
    "# Lecture 5\n",
    "\n",
    "Today will be about classes and lists. Lots of code has to be written here!"
   ]
  },
  {
   "attachments": {},
   "cell_type": "markdown",
   "metadata": {},
   "source": [
    "## Classes\n",
    "\n",
    "Picking up from Lecture 4:"
   ]
  },
  {
   "attachments": {},
   "cell_type": "markdown",
   "metadata": {},
   "source": [
    "Now, lets do the particles! In the next cell, define the classes to represent the particles as we discussed.\n",
    "\n",
    "1. A class that contains attributes for a particle type (call it `Particle`).\n",
    "    * Mass\n",
    "    * Spin\n",
    "    * Charge\n",
    "1. A class that contains attributes for the momentum and particle. Call it `AParticle`.\n",
    "    * Instance of the Particle class\n",
    "    * $p_x$, $p_y$, and $p_z$"
   ]
  },
  {
   "cell_type": "code",
   "execution_count": null,
   "metadata": {},
   "outputs": [],
   "source": [
    "class Particle:\n",
    "    def __init__(self, mass, spin, charge):\n",
    "        self.mass = mass\n",
    "        self.spin = spin\n",
    "        self.charge = charge\n",
    "\n",
    "class AParticle:\n",
    "    def __init__(self, p, px, py, pz):\n",
    "        self.particle = p\n",
    "        self.px = px\n",
    "        self.py = py\n",
    "        self.pz = pz"
   ]
  },
  {
   "attachments": {},
   "cell_type": "markdown",
   "metadata": {},
   "source": [
    "### Using `PIP` for the particle type information\n",
    "\n",
    "Lets up our game. The library [`particle`](https://pypi.org/project/particle/) provides complete particle data group information for all particles, and makes it very easy to access from python. Lets quickly explore it, and then re-write our classes above to incorporate it!\n",
    "\n",
    "First, we need to get the library from the [pypi.org](https://pypi.org) website and install it, and then import it as we normally would any local library."
   ]
  },
  {
   "cell_type": "code",
   "execution_count": null,
   "metadata": {},
   "outputs": [],
   "source": [
    "!pip install particle"
   ]
  },
  {
   "attachments": {},
   "cell_type": "markdown",
   "metadata": {},
   "source": [
    "We really only want the `Particle` class here - which contains all the information about a particular type of particle:"
   ]
  },
  {
   "cell_type": "code",
   "execution_count": null,
   "metadata": {},
   "outputs": [],
   "source": [
    "from particle import Particle"
   ]
  },
  {
   "cell_type": "code",
   "execution_count": null,
   "metadata": {},
   "outputs": [],
   "source": [
    "electron = Particle.from_evtgen_name(\"e-\")\n",
    "electron"
   ]
  },
  {
   "cell_type": "code",
   "execution_count": null,
   "metadata": {},
   "outputs": [],
   "source": [
    "print(dir(electron))"
   ]
  },
  {
   "cell_type": "code",
   "execution_count": null,
   "metadata": {},
   "outputs": [],
   "source": [
    "print(f'name={electron.name}, mass={electron.mass}, charge={electron.charge}')"
   ]
  },
  {
   "attachments": {},
   "cell_type": "markdown",
   "metadata": {},
   "source": [
    "Now, redo your example above for the event, using this to tag the particle type."
   ]
  },
  {
   "cell_type": "code",
   "execution_count": null,
   "metadata": {
    "tags": [
     "class"
    ]
   },
   "outputs": [],
   "source": []
  },
  {
   "attachments": {},
   "cell_type": "markdown",
   "metadata": {},
   "source": [
    "And create a list with first a muon and second an electron:"
   ]
  },
  {
   "cell_type": "code",
   "execution_count": null,
   "metadata": {
    "tags": [
     "class"
    ]
   },
   "outputs": [],
   "source": []
  },
  {
   "attachments": {},
   "cell_type": "markdown",
   "metadata": {},
   "source": [
    "And the following should print out `105.65` if we did everything right!:"
   ]
  },
  {
   "cell_type": "code",
   "execution_count": null,
   "metadata": {},
   "outputs": [],
   "source": [
    "print(particles[0].particle.mass)"
   ]
  },
  {
   "attachments": {},
   "cell_type": "markdown",
   "metadata": {},
   "source": [
    "# Flow Control - If Statements\n",
    "\n",
    "These are simple branch statements and probably some of the most powerful single statements in a programming language. Many languages contain multiple types of `if` statements, even!"
   ]
  },
  {
   "cell_type": "code",
   "execution_count": null,
   "metadata": {},
   "outputs": [],
   "source": [
    "i = 10\n",
    "if i == 10:\n",
    "    print(\"it is 10\")\n",
    "else:\n",
    "    print(\"it is not 10\")"
   ]
  },
  {
   "attachments": {},
   "cell_type": "markdown",
   "metadata": {},
   "source": [
    "The above should print 10. Now cut paste the code into the cell below and modify `i` so that it prints out `it is not 10`."
   ]
  },
  {
   "cell_type": "code",
   "execution_count": null,
   "metadata": {
    "tags": [
     "class"
    ]
   },
   "outputs": [],
   "source": []
  },
  {
   "attachments": {},
   "cell_type": "markdown",
   "metadata": {},
   "source": [
    "Write the code below so that it prints out \"The LED is on\" or \"The LED is off\" depending on the value of \"led_is_on\":"
   ]
  },
  {
   "cell_type": "code",
   "execution_count": null,
   "metadata": {
    "tags": [
     "class"
    ]
   },
   "outputs": [],
   "source": [
    "led_is_on = False"
   ]
  },
  {
   "attachments": {},
   "cell_type": "markdown",
   "metadata": {},
   "source": [
    "You can also drop the `else` clause if you like:"
   ]
  },
  {
   "cell_type": "code",
   "execution_count": null,
   "metadata": {},
   "outputs": [],
   "source": [
    "i = 10\n",
    "if i >= 10:\n",
    "    print(\"i is too large!\")"
   ]
  },
  {
   "attachments": {},
   "cell_type": "markdown",
   "metadata": {},
   "source": [
    "Python has a second form of a if statement - one that is an expression! We can rewrite the above:"
   ]
  },
  {
   "cell_type": "code",
   "execution_count": null,
   "metadata": {},
   "outputs": [],
   "source": [
    "size_string = \"it is 10\" if i == 10 else \"is is not 10\"\n",
    "print(size_string)"
   ]
  },
  {
   "attachments": {},
   "cell_type": "markdown",
   "metadata": {},
   "source": [
    "# Flow Control - Loops\n",
    "\n",
    "The most important types of statement-loops are the `for` and `while` loops. You've been seeing `while` loops for a while:\n",
    "\n",
    "```python\n",
    "while condition_expression:\n",
    "    statement1\n",
    "    statement2\n",
    "```\n",
    "\n",
    "In our microcontroller code you often see:\n",
    "\n",
    "```python\n",
    "while True:\n",
    "    statement1\n",
    "    statement2\n",
    "```\n",
    "\n",
    "This is because we want to start the microcontroller and have it run till we reset it or the battery dies!\n",
    "\n",
    "But any condition will work there."
   ]
  },
  {
   "attachments": {},
   "cell_type": "markdown",
   "metadata": {},
   "source": [
    "Write, in the cell below, a while loop that prints out the following:\n",
    "\n",
    "```text\n",
    "0\n",
    "2\n",
    "4\n",
    "6\n",
    "8\n",
    "10\n",
    "```\n",
    "\n",
    "The while loop should have only one `print` function call!"
   ]
  },
  {
   "cell_type": "code",
   "execution_count": null,
   "metadata": {
    "tags": [
     "class"
    ]
   },
   "outputs": [],
   "source": []
  },
  {
   "attachments": {},
   "cell_type": "markdown",
   "metadata": {},
   "source": [
    "In a microcontroller you may have a `while` loop that looks at some external condition, and as long as it exists, it will keep trying to do something to correct it."
   ]
  },
  {
   "attachments": {},
   "cell_type": "markdown",
   "metadata": {},
   "source": [
    "The `for` loop is normally even more common. The `for` loop loops over a `list` of items or a `tuple`. That is it. That is all it does!\n",
    "\n",
    "From your reading, create a `for` loop that prints out \"I found a <x>\" for each item in the list:"
   ]
  },
  {
   "cell_type": "code",
   "execution_count": null,
   "metadata": {},
   "outputs": [],
   "source": [
    "things = [\"bike\", \"car\", \"plane\", \"train\"]\n",
    "for thing in things:\n",
    "    print(f'I found a {thing}')"
   ]
  },
  {
   "attachments": {},
   "cell_type": "markdown",
   "metadata": {},
   "source": [
    "You will often find ourself looping over `list`s in python.\n",
    "\n",
    "Lots of things can generate a `list` or `tuple`. One of the more useful is `range`:"
   ]
  },
  {
   "cell_type": "code",
   "execution_count": null,
   "metadata": {},
   "outputs": [],
   "source": [
    "range?"
   ]
  },
  {
   "attachments": {},
   "cell_type": "markdown",
   "metadata": {},
   "source": [
    "In the next cell, write a `for` loop that prints out the same as the while loop (even numbers up to 10), and does not contain a `*2` expression in it!"
   ]
  },
  {
   "cell_type": "code",
   "execution_count": null,
   "metadata": {
    "tags": [
     "class"
    ]
   },
   "outputs": [],
   "source": []
  },
  {
   "attachments": {},
   "cell_type": "markdown",
   "metadata": {},
   "source": [
    "Recall we said _expression-based if's_ above? There are expression loops as well! These are called `generators` or `list comprehensions` and are very very powerful because you can do so much so concisely. I'll show you an example - you should read up on these and start using them as soon as you feel comfortable."
   ]
  },
  {
   "cell_type": "code",
   "execution_count": null,
   "metadata": {},
   "outputs": [],
   "source": [
    "every_number = [0, 1, 2, 3, 4, 5]\n",
    "even_numbers = [i*2 for i in every_number]\n",
    "print(even_numbers)"
   ]
  },
  {
   "attachments": {},
   "cell_type": "markdown",
   "metadata": {},
   "source": [
    "Have you heard of the `map-reduce` algorithm? It is a way of splitting up and processing a large amount of data and then aggregating it. It came from Google, and they are famous for it because it was one of the first patterns recognized for processing big data. This `list comprehension` is the `map` operation in `map-reduce`."
   ]
  }
 ],
 "metadata": {
  "kernelspec": {
   "display_name": ".venv",
   "language": "python",
   "name": "python3"
  },
  "language_info": {
   "codemirror_mode": {
    "name": "ipython",
    "version": 3
   },
   "file_extension": ".py",
   "mimetype": "text/x-python",
   "name": "python",
   "nbconvert_exporter": "python",
   "pygments_lexer": "ipython3",
   "version": "3.10.7"
  },
  "orig_nbformat": 4,
  "vscode": {
   "interpreter": {
    "hash": "91cc1d34ef0582b00b6e94d9f7ac2b9b53d9b31b0e7278db8b56ff132166e659"
   }
  }
 },
 "nbformat": 4,
 "nbformat_minor": 2
}
