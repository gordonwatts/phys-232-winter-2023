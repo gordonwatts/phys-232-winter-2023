{
 "cells": [
  {
   "attachments": {},
   "cell_type": "markdown",
   "metadata": {},
   "source": [
    "# Lecture 6\n",
    "\n",
    "We will finish up flow control introductions today and move onto functions, and soon dictionaries."
   ]
  },
  {
   "attachments": {},
   "cell_type": "markdown",
   "metadata": {},
   "source": [
    "# Flow Control - Loops\n",
    "\n",
    "The most important types of statement-loops are the `for` and `while` loops. You've been seeing `while` loops for a while:\n",
    "\n",
    "```python\n",
    "while condition_expression:\n",
    "    statement1\n",
    "    statement2\n",
    "```\n",
    "\n",
    "In our microcontroller code you often see:\n",
    "\n",
    "```python\n",
    "while True:\n",
    "    statement1\n",
    "    statement2\n",
    "```\n",
    "\n",
    "This is because we want to start the microcontroller and have it run till we reset it or the battery dies!\n",
    "\n",
    "But any condition will work there."
   ]
  },
  {
   "attachments": {},
   "cell_type": "markdown",
   "metadata": {},
   "source": [
    "Write, in the cell below, a while loop that prints out the following:\n",
    "\n",
    "```text\n",
    "0\n",
    "2\n",
    "4\n",
    "6\n",
    "8\n",
    "10\n",
    "```\n",
    "\n",
    "The while loop should have only one `print` function call!"
   ]
  },
  {
   "cell_type": "code",
   "execution_count": null,
   "metadata": {
    "tags": [
     "class"
    ]
   },
   "outputs": [],
   "source": []
  },
  {
   "attachments": {},
   "cell_type": "markdown",
   "metadata": {},
   "source": [
    "In a microcontroller you may have a `while` loop that looks at some external condition, and as long as it exists, it will keep trying to do something to correct it."
   ]
  },
  {
   "attachments": {},
   "cell_type": "markdown",
   "metadata": {},
   "source": [
    "The `for` loop is normally even more common. The `for` loop loops over a `list` of items or a `tuple`. That is it. That is all it does!\n",
    "\n",
    "From your reading, create a `for` loop that prints out \"I found a <x>\" for each item in the list:"
   ]
  },
  {
   "cell_type": "code",
   "execution_count": null,
   "metadata": {
    "tags": [
     "class"
    ]
   },
   "outputs": [],
   "source": [
    "things = [\"bike\", \"car\", \"plane\", \"train\"]"
   ]
  },
  {
   "attachments": {},
   "cell_type": "markdown",
   "metadata": {},
   "source": [
    "You will often find ourself looping over `list`s in python.\n",
    "\n",
    "Lots of things can generate a `list` or `tuple`. One of the more useful is `range`:"
   ]
  },
  {
   "cell_type": "code",
   "execution_count": null,
   "metadata": {},
   "outputs": [],
   "source": [
    "range?"
   ]
  },
  {
   "attachments": {},
   "cell_type": "markdown",
   "metadata": {},
   "source": [
    "In the next cell, write a `for` loop that prints out the same as the while loop (even numbers up to 10), and does not contain a `*2` expression in it!"
   ]
  },
  {
   "cell_type": "code",
   "execution_count": null,
   "metadata": {
    "tags": [
     "class"
    ]
   },
   "outputs": [],
   "source": []
  },
  {
   "attachments": {},
   "cell_type": "markdown",
   "metadata": {},
   "source": [
    "Recall we said _statement-based loops_ above? There are expression loops as well! These are called `generators` or `list comprehensions` and are very very powerful because you can do so much so concisely. I'll show you an example - you should read up on these and start using them as soon as you feel comfortable."
   ]
  },
  {
   "cell_type": "code",
   "execution_count": null,
   "metadata": {},
   "outputs": [],
   "source": [
    "every_number = [0, 1, 2, 3, 4, 5]\n",
    "even_numbers = [i*2 for i in every_number]\n",
    "print(even_numbers)"
   ]
  },
  {
   "attachments": {},
   "cell_type": "markdown",
   "metadata": {},
   "source": [
    "Have you heard of the `map-reduce` algorithm? It is a way of splitting up and processing a large amount of data and then aggregating it. It came from Google, and they are famous for it because it was one of the first patterns recognized for processing big data that could easily be distributed across a large farm of computers. This `list comprehension` is the `map` operation in `map-reduce`."
   ]
  },
  {
   "attachments": {},
   "cell_type": "markdown",
   "metadata": {},
   "source": [
    "## Functions\n",
    "\n",
    "We've been using functions a lot in this course already - you can't get away from them! Event `print` is a function in python!\n",
    "\n",
    "To start, lets define a silly function and play with the arguments a little bit:"
   ]
  },
  {
   "cell_type": "code",
   "execution_count": null,
   "metadata": {},
   "outputs": [],
   "source": [
    "def udub(name, major):\n",
    "    print(f\"Hello, I am {name}! I am majoring in {major} at UW.\")"
   ]
  },
  {
   "cell_type": "code",
   "execution_count": null,
   "metadata": {},
   "outputs": [],
   "source": [
    "udub(\"Joe\", \"physics\")"
   ]
  },
  {
   "attachments": {},
   "cell_type": "markdown",
   "metadata": {},
   "source": [
    "Lets say I wrote `wdub(\"Math\", \"Jane\")` - write the call in the next cell, leaving the *order* of the arguments the same, but so that things are called properly."
   ]
  },
  {
   "cell_type": "code",
   "execution_count": null,
   "metadata": {
    "tags": [
     "class"
    ]
   },
   "outputs": [],
   "source": []
  },
  {
   "attachments": {},
   "cell_type": "markdown",
   "metadata": {},
   "source": [
    "Since everyone at UW majors in physics, lets default the major to physics. Fix up the following cell so the cell after it works correctly:"
   ]
  },
  {
   "cell_type": "code",
   "execution_count": null,
   "metadata": {},
   "outputs": [],
   "source": [
    "def udub(major='physics', name):\n",
    "    print(f\"Hello, I am {name}! I am majoring in {major} at UW.\")"
   ]
  },
  {
   "cell_type": "code",
   "execution_count": null,
   "metadata": {},
   "outputs": [],
   "source": [
    "udub('Joe')"
   ]
  },
  {
   "attachments": {},
   "cell_type": "markdown",
   "metadata": {},
   "source": [
    "Arguments are passed in different ways - depending on how they are called.\n",
    "\n",
    "In this next cell create a function called `modify_it` that takes an integer and a list as arguments. The integer argument it adds 1. The list it appends the number 5. The function then prints out both arguments."
   ]
  },
  {
   "cell_type": "code",
   "execution_count": null,
   "metadata": {
    "tags": [
     "class"
    ]
   },
   "outputs": [],
   "source": []
  },
  {
   "attachments": {},
   "cell_type": "markdown",
   "metadata": {},
   "source": [
    "Try to predict what the following code will do:"
   ]
  },
  {
   "cell_type": "code",
   "execution_count": null,
   "metadata": {},
   "outputs": [],
   "source": [
    "i = 2\n",
    "l = [1, 2, 3]\n",
    "\n",
    "print('Before call:', i, l)\n",
    "\n",
    "modify_it(i, l)\n",
    "\n",
    "print('After call:', i, l)"
   ]
  },
  {
   "attachments": {},
   "cell_type": "markdown",
   "metadata": {},
   "source": [
    "That is totally inconsistent! What is happening!!?!?\n",
    "\n",
    "Experiment with a string - is it by value or by reference?"
   ]
  },
  {
   "cell_type": "code",
   "execution_count": null,
   "metadata": {
    "tags": [
     "class"
    ]
   },
   "outputs": [],
   "source": []
  },
  {
   "attachments": {},
   "cell_type": "markdown",
   "metadata": {},
   "source": [
    "Functions can be defined almost anywhere. Sometimes you might want a function that is only useful inside another. You can define a function inside another:"
   ]
  },
  {
   "cell_type": "code",
   "execution_count": null,
   "metadata": {},
   "outputs": [],
   "source": [
    "def add_mul(n):\n",
    "    def add_it(n):\n",
    "        return n + 1\n",
    "    \n",
    "    return add_it(n) * 2\n",
    "\n",
    "add_mul(4)"
   ]
  },
  {
   "attachments": {},
   "cell_type": "markdown",
   "metadata": {},
   "source": [
    "Just as there are single line `if` and `loop` expressions, there are also function expressions. They are called `lambda` expressions:"
   ]
  },
  {
   "cell_type": "code",
   "execution_count": null,
   "metadata": {},
   "outputs": [],
   "source": [
    "def multiply(x, y):\n",
    "    return x * y\n",
    "\n",
    "my_mul_expr = lambda x, y: x * y\n",
    "\n",
    "print(multiply(2, 3))\n",
    "print(my_mul_expr(2, 3))"
   ]
  },
  {
   "attachments": {},
   "cell_type": "markdown",
   "metadata": {},
   "source": [
    "Where might this be useful? Functional programming and higher-order functions (functions that take functions as arguments).\n",
    "\n",
    "A classic is the built-in `map` function:"
   ]
  },
  {
   "cell_type": "code",
   "execution_count": null,
   "metadata": {},
   "outputs": [],
   "source": [
    "numbers = [1, 2, 3, 4, 5]\n",
    "map(lambda x: x * 2, numbers)"
   ]
  },
  {
   "attachments": {},
   "cell_type": "markdown",
   "metadata": {},
   "source": [
    "What? Wait a minute..."
   ]
  },
  {
   "cell_type": "code",
   "execution_count": null,
   "metadata": {},
   "outputs": [],
   "source": [
    "for i in map(lambda x: x * 2, numbers):\n",
    "    print(i)"
   ]
  },
  {
   "attachments": {},
   "cell_type": "markdown",
   "metadata": {},
   "source": [
    "So - that works... what is going on?\n",
    "\n",
    "`map` is a generator. It only _generates_ the elements of the list as it is asked for them. This is a memory saving device (think about running over a list that is GB in size). We can turn it into a list, however:"
   ]
  },
  {
   "cell_type": "code",
   "execution_count": null,
   "metadata": {},
   "outputs": [],
   "source": [
    "list(map(lambda x: x * 2, numbers))"
   ]
  },
  {
   "cell_type": "code",
   "execution_count": null,
   "metadata": {},
   "outputs": [],
   "source": [
    "my_double = lambda x: x * 2\n",
    "list(map(my_double, numbers))"
   ]
  },
  {
   "cell_type": "code",
   "execution_count": null,
   "metadata": {},
   "outputs": [],
   "source": [
    "?map"
   ]
  },
  {
   "attachments": {},
   "cell_type": "markdown",
   "metadata": {},
   "source": [
    "_shortest_ iterable - perhaps it will work on multiple lists?"
   ]
  },
  {
   "cell_type": "code",
   "execution_count": null,
   "metadata": {},
   "outputs": [],
   "source": [
    "list(map(my_mul_expr, numbers, numbers))"
   ]
  },
  {
   "attachments": {},
   "cell_type": "markdown",
   "metadata": {},
   "source": [
    "We can get totally crazy - by creating a higher order function that captures an argument."
   ]
  },
  {
   "cell_type": "code",
   "execution_count": null,
   "metadata": {},
   "outputs": [],
   "source": [
    "def capture_arg(func, arg):\n",
    "    def do_the_work(*args):\n",
    "        return func(arg, *args)\n",
    "    \n",
    "    return do_the_work\n",
    "\n",
    "capture_arg(my_mul_expr, 2)(3)"
   ]
  },
  {
   "attachments": {},
   "cell_type": "markdown",
   "metadata": {},
   "source": [
    "`capture_arg` is returning a function!!!!!"
   ]
  },
  {
   "cell_type": "code",
   "execution_count": null,
   "metadata": {},
   "outputs": [],
   "source": [
    "list(map(capture_arg(my_mul_expr, 2), numbers))"
   ]
  },
  {
   "attachments": {},
   "cell_type": "markdown",
   "metadata": {},
   "source": [
    "I doubt you'll need to use this in this class. But it does give you a glimpse of how crazy python will let you get, if you want to push things."
   ]
  }
 ],
 "metadata": {
  "kernelspec": {
   "display_name": ".venv",
   "language": "python",
   "name": "python3"
  },
  "language_info": {
   "codemirror_mode": {
    "name": "ipython",
    "version": 3
   },
   "file_extension": ".py",
   "mimetype": "text/x-python",
   "name": "python",
   "nbconvert_exporter": "python",
   "pygments_lexer": "ipython3",
   "version": "3.11.0"
  },
  "orig_nbformat": 4,
  "vscode": {
   "interpreter": {
    "hash": "97ee99713355a295790cf988e930f7ce05360b418008be67aa4c33ddf991f00c"
   }
  }
 },
 "nbformat": 4,
 "nbformat_minor": 2
}
